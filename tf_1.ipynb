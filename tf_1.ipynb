{
  "nbformat": 4,
  "nbformat_minor": 0,
  "metadata": {
    "colab": {
      "name": "Untitled0.ipynb의 사본",
      "provenance": [],
      "authorship_tag": "ABX9TyMahnGnA391Yr3wzCe33rLU",
      "include_colab_link": true
    },
    "kernelspec": {
      "name": "python3",
      "display_name": "Python 3"
    }
  },
  "cells": [
    {
      "cell_type": "markdown",
      "metadata": {
        "id": "view-in-github",
        "colab_type": "text"
      },
      "source": [
        "<a href=\"https://colab.research.google.com/github/gooseegoal/jamo/blob/master/tf_1.ipynb\" target=\"_parent\"><img src=\"https://colab.research.google.com/assets/colab-badge.svg\" alt=\"Open In Colab\"/></a>"
      ]
    },
    {
      "cell_type": "code",
      "metadata": {
        "id": "6YELVa-Xh1ow",
        "colab_type": "code",
        "colab": {}
      },
      "source": [
        "import tensorflow.compat.v1 as tf"
      ],
      "execution_count": null,
      "outputs": []
    },
    {
      "cell_type": "code",
      "metadata": {
        "id": "iIUCU7TbiPjF",
        "colab_type": "code",
        "colab": {
          "base_uri": "https://localhost:8080/",
          "height": 125
        },
        "outputId": "2a15926e-180f-4049-8bd6-cce7a43a4819"
      },
      "source": [
        "import tensorflow.compat.v1 as tf\n",
        "\n",
        "with tf.Session() as sess:\n",
        "    W1 = tf.Variable(tf.random.normal([1]))\n",
        "    b1 = tf.Variable(tf.random.normal([1]))\n",
        "\n",
        "    W2 = tf.Variable(tf.random.normal([1, 2]))\n",
        "    b2 = tf.Variable(tf.random.normal([1, 2]))\n",
        "\n",
        "    sess.run(tf.global_variables_initializer())\n",
        "        \n",
        "    for step in range(3):\n",
        "        \n",
        "        W1 = W1 - step\n",
        "        b1 = b1 - step\n",
        "        \n",
        "        W2 = W2 - step\n",
        "        b2 = b2 - step\n",
        "        \n",
        "        print(\"step = \", step, \"W1 = \", sess.run(W1), \"b1 = \", sess.run(b1))    \n",
        "        print(\"step = \", step, \"W2 = \", sess.run(W2), \"b2 = \", sess.run(b2))    \n",
        "    \n",
        "sess.close()    \n",
        "        "
      ],
      "execution_count": null,
      "outputs": [
        {
          "output_type": "stream",
          "text": [
            "step =  0 W1 =  [-0.5021] b1 =  [-1.0650911]\n",
            "step =  0 W2 =  [[-0.31088832 -0.16699277]] b2 =  [[-0.20178872 -0.4971855 ]]\n",
            "step =  1 W1 =  [-1.5021] b1 =  [-2.0650911]\n",
            "step =  1 W2 =  [[-1.3108883 -1.1669928]] b2 =  [[-1.2017887 -1.4971855]]\n",
            "step =  2 W1 =  [-3.5021] b1 =  [-4.065091]\n",
            "step =  2 W2 =  [[-3.3108883 -3.1669927]] b2 =  [[-3.2017887 -3.4971855]]\n"
          ],
          "name": "stdout"
        }
      ]
    },
    {
      "cell_type": "code",
      "metadata": {
        "id": "ZiuHYv4Jiiqu",
        "colab_type": "code",
        "colab": {
          "base_uri": "https://localhost:8080/",
          "height": 71
        },
        "outputId": "25cc4c32-1bb6-445f-988e-e9f41026f145"
      },
      "source": [
        "import tensorflow.compat.v1 as tf\n",
        "import numpy as np\n",
        "\n",
        "with tf.Session() as sess:\n",
        "    z_data = np.array([11, 22, 12, 32, 43, 54, 21, 87, 45, 76, 42, 23, 54, 21 ,21]).reshape(5, 3)\n",
        "    print(z_data.shape)\n",
        "\n",
        "    x_data = z_data[:, 0: -1]\n",
        "    t_data = z_data[:, [-1]]\n",
        "\n",
        "    print(\"x_data.shape = \", x_data.shape)\n",
        "    print(\"t_data.shape = \", t_data.shape)\n",
        "\n",
        "    W = tf.Variable(tf.random.normal([2, 1]))\n",
        "    b = tf.Variable(tf.random.normal([1]))\n",
        "\n",
        "    x = tf.placeholder(tf.float32, [None, 2])\n",
        "    T = tf.placeholder(tf.float32, [None, 1])\n",
        "\n",
        "    y = tf.matmul(x, W) + b\n",
        "    loss = tf.reduce_mean(tf.square(y - T))\n",
        "\n",
        "    learning_rate = 1e-5\n",
        "    optimizer = tf.train.GradientDescentOptimizer(learning_rate)\n",
        "    train = optimizer.minimize(loss)"
      ],
      "execution_count": null,
      "outputs": [
        {
          "output_type": "stream",
          "text": [
            "(5, 3)\n",
            "x_data.shape =  (5, 2)\n",
            "t_data.shape =  (5, 1)\n"
          ],
          "name": "stdout"
        }
      ]
    },
    {
      "cell_type": "code",
      "metadata": {
        "id": "ICAAOoPnik7f",
        "colab_type": "code",
        "colab": {
          "base_uri": "https://localhost:8080/",
          "height": 1000
        },
        "outputId": "97a31a72-30a2-45b3-bf66-644924a17197"
      },
      "source": [
        "with tf.Session() as sess:\n",
        "    sess.run(tf.global_variables_initializer())     # 변수 설정할 때 꼭!!                              \n",
        "    \n",
        "    for step in range(8001):\n",
        "        loss_val, y_val, q_val = sess.run([loss, y, train], feed_dict = {x: x_data, T: t_data})\n",
        "        \n",
        "        if step % 400 == 0:\n",
        "            print(\"step = \", step, \". loss_val = \", loss_val, \"y_val = \", y_val, \"q_val = \", q_val)\n",
        "            \n",
        "    print(\"\\nPrediction is \", sess.run(y, feed_dict = {x: [[20, 30]]}))        "
      ],
      "execution_count": null,
      "outputs": [
        {
          "output_type": "stream",
          "text": [
            "step =  0 . loss_val =  6073.2246 y_val =  [[-11.664042]\n",
            " [-34.491444]\n",
            " [-22.431683]\n",
            " [-82.40419 ]\n",
            " [-58.487904]] q_val =  None\n",
            "step =  400 . loss_val =  162.84392 y_val =  [[14.219493]\n",
            " [28.663599]\n",
            " [52.843605]\n",
            " [32.95347 ]\n",
            " [18.398746]] q_val =  None\n",
            "step =  800 . loss_val =  162.80035 y_val =  [[14.213142]\n",
            " [28.655453]\n",
            " [52.74603 ]\n",
            " [33.015503]\n",
            " [18.461018]] q_val =  None\n",
            "step =  1200 . loss_val =  162.76035 y_val =  [[14.22119 ]\n",
            " [28.657793]\n",
            " [52.743324]\n",
            " [33.01245 ]\n",
            " [18.463802]] q_val =  None\n",
            "step =  1600 . loss_val =  162.72038 y_val =  [[14.229305]\n",
            " [28.660187]\n",
            " [52.74109 ]\n",
            " [33.009094]\n",
            " [18.466303]] q_val =  None\n",
            "step =  2000 . loss_val =  162.68057 y_val =  [[14.237416]\n",
            " [28.662586]\n",
            " [52.738873]\n",
            " [33.005756]\n",
            " [18.468807]] q_val =  None\n",
            "step =  2400 . loss_val =  162.6408 y_val =  [[14.245517]\n",
            " [28.664976]\n",
            " [52.736645]\n",
            " [33.00241 ]\n",
            " [18.471304]] q_val =  None\n",
            "step =  2800 . loss_val =  162.60106 y_val =  [[14.2536125]\n",
            " [28.667372 ]\n",
            " [52.73443  ]\n",
            " [32.99907  ]\n",
            " [18.473803 ]] q_val =  None\n",
            "step =  3200 . loss_val =  162.56143 y_val =  [[14.261698]\n",
            " [28.66976 ]\n",
            " [52.73221 ]\n",
            " [32.99573 ]\n",
            " [18.476295]] q_val =  None\n",
            "step =  3600 . loss_val =  162.52188 y_val =  [[14.269777]\n",
            " [28.672148]\n",
            " [52.729996]\n",
            " [32.9924  ]\n",
            " [18.478786]] q_val =  None\n",
            "step =  4000 . loss_val =  162.48242 y_val =  [[14.277849]\n",
            " [28.674532]\n",
            " [52.727783]\n",
            " [32.98907 ]\n",
            " [18.481276]] q_val =  None\n",
            "step =  4400 . loss_val =  162.443 y_val =  [[14.2859125]\n",
            " [28.676916 ]\n",
            " [52.72557  ]\n",
            " [32.985744 ]\n",
            " [18.483763 ]] q_val =  None\n",
            "step =  4800 . loss_val =  162.40369 y_val =  [[14.293968]\n",
            " [28.679295]\n",
            " [52.723362]\n",
            " [32.98242 ]\n",
            " [18.486246]] q_val =  None\n",
            "step =  5200 . loss_val =  162.36443 y_val =  [[14.302016]\n",
            " [28.681671]\n",
            " [52.721153]\n",
            " [32.9791  ]\n",
            " [18.488728]] q_val =  None\n",
            "step =  5600 . loss_val =  162.32526 y_val =  [[14.310058]\n",
            " [28.68405 ]\n",
            " [52.718952]\n",
            " [32.97579 ]\n",
            " [18.491209]] q_val =  None\n",
            "step =  6000 . loss_val =  162.28613 y_val =  [[14.31809 ]\n",
            " [28.686422]\n",
            " [52.716743]\n",
            " [32.97247 ]\n",
            " [18.493687]] q_val =  None\n",
            "step =  6400 . loss_val =  162.24707 y_val =  [[14.326117]\n",
            " [28.688795]\n",
            " [52.714542]\n",
            " [32.969154]\n",
            " [18.496162]] q_val =  None\n",
            "step =  6800 . loss_val =  162.20811 y_val =  [[14.334132]\n",
            " [28.691164]\n",
            " [52.712345]\n",
            " [32.965847]\n",
            " [18.498634]] q_val =  None\n",
            "step =  7200 . loss_val =  162.16925 y_val =  [[14.342142]\n",
            " [28.69353 ]\n",
            " [52.710148]\n",
            " [32.962543]\n",
            " [18.501104]] q_val =  None\n",
            "step =  7600 . loss_val =  162.13046 y_val =  [[14.350146]\n",
            " [28.695896]\n",
            " [52.707962]\n",
            " [32.959248]\n",
            " [18.503572]] q_val =  None\n",
            "step =  8000 . loss_val =  162.0917 y_val =  [[14.358139]\n",
            " [28.698256]\n",
            " [52.705765]\n",
            " [32.955944]\n",
            " [18.506037]] q_val =  None\n",
            "\n",
            "Prediction is  [[19.930845]]\n"
          ],
          "name": "stdout"
        }
      ]
    }
  ]
}