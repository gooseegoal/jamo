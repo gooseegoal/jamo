{
  "nbformat": 4,
  "nbformat_minor": 0,
  "metadata": {
    "colab": {
      "name": "PythonBasic",
      "provenance": [],
      "collapsed_sections": [],
      "authorship_tag": "ABX9TyOpnusjH4+CKyearrRHpD5M",
      "include_colab_link": true
    },
    "kernelspec": {
      "name": "python3",
      "display_name": "Python 3"
    }
  },
  "cells": [
    {
      "cell_type": "markdown",
      "metadata": {
        "id": "view-in-github",
        "colab_type": "text"
      },
      "source": [
        "<a href=\"https://colab.research.google.com/github/gooseegoal/jamo/blob/master/PythonBasic.ipynb\" target=\"_parent\"><img src=\"https://colab.research.google.com/assets/colab-badge.svg\" alt=\"Open In Colab\"/></a>"
      ]
    },
    {
      "cell_type": "code",
      "metadata": {
        "id": "Lh3fXQqblD-J"
      },
      "source": [
        ""
      ],
      "execution_count": null,
      "outputs": []
    },
    {
      "cell_type": "markdown",
      "metadata": {
        "id": "IKTYLlRVlOd5"
      },
      "source": [
        "# String\r\n",
        "1. 큰 따옴표(\"\")로 양쪽 둘러싸기\r\n",
        "2. 작은 따옴표('')로 양쪽 둘러싸기\r\n",
        "3. 큰 따옴표 3개(\"\"\" \"\"\")를 연속으로 써서 양쪽 둘러싸기\r\n",
        "4. 작은 따옴표 3개(''' ''')를 연속으로 써서 양쪽 둘러싸기\r\n",
        "\r\n",
        "# Escape Code\r\n",
        "- 프로그래밍할 때 사용할 수 있도록 미리 정의해 둔 문자조합\r\n",
        "\r\n",
        "1.   \\n 문자열 안에서 줄을 바꿀 때 사용\r\n",
        "2.   \\t 문자열 사이에 탭 가격을 줄 때 사용\r\n",
        "3.   \\\\\\ 문자를 그대로 표현할 때 사용\r\n",
        "4.   \\\\'  작은 따옴표 그대로 표현할 때 사용\r\n",
        "5.   \\\\\"  큰 따옴표를 그대로 표현할 때 사용"
      ]
    },
    {
      "cell_type": "code",
      "metadata": {
        "colab": {
          "base_uri": "https://localhost:8080/"
        },
        "id": "9cp6EDGWl_kx",
        "outputId": "bbf460a0-e662-4e09-936c-9ed2d92ccb42"
      },
      "source": [
        "a = \"Hello World.\"\r\n",
        "b = 'Python is fun.'\r\n",
        "c = \"\"\"Life is too short, You need python.\"\"\"\r\n",
        "d = '''Life is too short, You need python.'''\r\n",
        "print(a, b, c, d)\r\n",
        "\r\n",
        "e = '\"Life is too short.\" he said.'\r\n",
        "print(e)\r\n",
        "\r\n",
        "f = 'Python\\'s favorite food is perl'\r\n",
        "print(f)\r\n",
        "\r\n",
        "g = \"\\\"Life is too short.\\\" he said.\"\r\n",
        "print(g)"
      ],
      "execution_count": null,
      "outputs": [
        {
          "output_type": "stream",
          "text": [
            "Hello World. Python is fun. Life is too short, You need python. Life is too short, You need python.\n",
            "\"Life is too short.\" he said.\n",
            "Python's favorite food is perl\n",
            "\"Life is too short.\" he said.\n"
          ],
          "name": "stdout"
        }
      ]
    },
    {
      "cell_type": "code",
      "metadata": {
        "colab": {
          "base_uri": "https://localhost:8080/"
        },
        "id": "mjCFH4B_nLeS",
        "outputId": "d87e0f36-4bdd-4281-c0e8-b625dd17fe30"
      },
      "source": [
        "# escape code \\n을 이용하여 줄바꿈 또는 ''' ''' 사용\r\n",
        "multiline1 = \"Life is too short\\nYou need python\"\r\n",
        "multiline2 = '''\r\n",
        "Life is too short\r\n",
        "You need python\r\n",
        "'''\r\n",
        "print(multiline1, multiline2)"
      ],
      "execution_count": null,
      "outputs": [
        {
          "output_type": "stream",
          "text": [
            "Life is too short\n",
            "You need python \n",
            "Life is too short\n",
            "You need python\n",
            "\n"
          ],
          "name": "stdout"
        }
      ]
    },
    {
      "cell_type": "code",
      "metadata": {
        "colab": {
          "base_uri": "https://localhost:8080/",
          "height": 52
        },
        "id": "63OaQtI58F90",
        "outputId": "ad15ae00-3e92-441b-bc29-edb5781cde9a"
      },
      "source": [
        "# Concatenation\r\n",
        "head = \"Life is\"\r\n",
        "tail = \" too short.\"\r\n",
        "print(head + tail)\r\n",
        "\r\n",
        "x = \"Python\"\r\n",
        "x * 5           # *는 반복을 의미함"
      ],
      "execution_count": null,
      "outputs": [
        {
          "output_type": "stream",
          "text": [
            "Life is too short.\n"
          ],
          "name": "stdout"
        },
        {
          "output_type": "execute_result",
          "data": {
            "application/vnd.google.colaboratory.intrinsic+json": {
              "type": "string"
            },
            "text/plain": [
              "'PythonPythonPythonPythonPython'"
            ]
          },
          "metadata": {
            "tags": []
          },
          "execution_count": 25
        }
      ]
    },
    {
      "cell_type": "code",
      "metadata": {
        "colab": {
          "base_uri": "https://localhost:8080/"
        },
        "id": "rZkES-ka6MnE",
        "outputId": "4fd187ce-a705-4b0f-9f1b-abe1b34fbd11"
      },
      "source": [
        "print(\"=\" * 35)\r\n",
        "print(\"Life is too short. You need python\")\r\n",
        "print(\"=\" * 35)"
      ],
      "execution_count": null,
      "outputs": [
        {
          "output_type": "stream",
          "text": [
            "===================================\n",
            "Life is too short. You need python\n",
            "===================================\n"
          ],
          "name": "stdout"
        }
      ]
    },
    {
      "cell_type": "code",
      "metadata": {
        "colab": {
          "base_uri": "https://localhost:8080/"
        },
        "id": "_mYHqansCJjQ",
        "outputId": "528e788d-9c56-4027-a776-d5936ce9b778"
      },
      "source": [
        "python = \"Life is too short. You need python\"\r\n",
        "len(python)"
      ],
      "execution_count": null,
      "outputs": [
        {
          "output_type": "execute_result",
          "data": {
            "text/plain": [
              "34"
            ]
          },
          "metadata": {
            "tags": []
          },
          "execution_count": 31
        }
      ]
    },
    {
      "cell_type": "markdown",
      "metadata": {
        "id": "oQOfEBfL44r-"
      },
      "source": [
        "# 문자열 Indexing과 Slicing\r\n",
        "\r\n",
        "- 파이썬은 0부터 Counting\r\n",
        "- 인덱싱이란 a[0], a[1]과 같이 문자열 안의 특정한 값을 뽑아내는 역할\r\n",
        "- 슬라이싱은 문자열 안에서 연속된 값 추출\r\n",
        "- 슬라이싱은 시작점은 포함(inclusive), 종착점은 배제(exclusive)"
      ]
    },
    {
      "cell_type": "code",
      "metadata": {
        "colab": {
          "base_uri": "https://localhost:8080/"
        },
        "id": "Hh9itsVe5tds",
        "outputId": "a3bae180-d5a1-4487-94df-027e13648498"
      },
      "source": [
        "# Indexing\r\n",
        "\r\n",
        "condor = \"I'd rather be a sparrow than a snail.\"\r\n",
        "print(len(condor))\r\n",
        "print(condor[0])\r\n",
        "print(condor[3])\r\n",
        "print(condor[-2])\r\n",
        "\r\n",
        "# Slicing\r\n",
        "\r\n",
        "ml = \"machine learning\"\r\n",
        "print(ml[0:3])        # 0번째에서 2번째(3번째 - 1)까지\r\n",
        "print(ml[-3:-1])      # -3번째에서 -2번째(-1번째 - 1)까지\r\n",
        "print(ml[:3])\r\n",
        "print(ml[-8:])\r\n",
        "print(ml[5: -1])\r\n",
        "\r\n",
        "z = \"20201221Sunny\"\r\n",
        "date = z[0:8]\r\n",
        "weather = z[8:]\r\n",
        "print(date + weather)\r\n",
        "print(date, weather)\r\n",
        "print(date + \"\\n\" + weather)\r\n",
        "\r\n",
        "# Mashine을 Machine으로 바꾸기\r\n",
        "\r\n",
        "m = \"Mashine\"\r\n",
        "# m[2] = \"c\"            # 문자열(str)은 immutable이라 error 반환\r\n",
        "\r\n",
        "print(m[:2] + \"c\" + m[3:])"
      ],
      "execution_count": null,
      "outputs": [
        {
          "output_type": "stream",
          "text": [
            "37\n",
            "I\n",
            " \n",
            "l\n",
            "mac\n",
            "in\n",
            "mac\n",
            "learning\n",
            "ne learnin\n",
            "20201221Sunny\n",
            "20201221 Sunny\n",
            "20201221\n",
            "Sunny\n",
            "Machine\n"
          ],
          "name": "stdout"
        }
      ]
    },
    {
      "cell_type": "markdown",
      "metadata": {
        "id": "W3tVqDpyGMgK"
      },
      "source": [
        "# 문자열 formatting\r\n",
        "\r\n",
        "- %s\t문자열(String)\r\n",
        "- %c\t문자 1개(character)\r\n",
        "- %d\t정수(Integer)\r\n",
        "- %f\t부동소수(floating-point)\r\n",
        "- %o\t8진수\r\n",
        "- %x\t16진수\r\n",
        "- %%\tLiteral % (문자 % 자체)"
      ]
    },
    {
      "cell_type": "code",
      "metadata": {
        "colab": {
          "base_uri": "https://localhost:8080/"
        },
        "id": "ZcpoMsuCGVrr",
        "outputId": "8b27b5d0-688d-4332-8639-46e67c9cdbc0"
      },
      "source": [
        "print(\"I ran 10 kilometers through the rain.\")\r\n",
        "print(\"I ran %d kilometers through the rain.\" % 10)\r\n",
        "\r\n",
        "print(\"I ran ten kilimeters through the rain\")\r\n",
        "print(\"I ran %s kilometers through the rain\" % \"ten\")\r\n",
        "\r\n",
        "numbers = 10\r\n",
        "\r\n",
        "for number in range(numbers):\r\n",
        "  print(\"I ran %d kilometers through the rain\" % number)\r\n",
        "\r\n",
        "numbers = 10\r\n",
        "hours = \"three\" \r\n",
        "\r\n",
        "print(\"After running %d kilometers through the rain, I could arrive home at %s o\\'clock.\" % (numbers, hours))\r\n"
      ],
      "execution_count": null,
      "outputs": [
        {
          "output_type": "stream",
          "text": [
            "I ran 10 kilometers through the rain.\n",
            "I ran 10 kilometers through the rain.\n",
            "I ran ten kilimeters through the rain\n",
            "I ran ten kilometers through the rain\n",
            "I ran 0 kilometers through the rain\n",
            "I ran 1 kilometers through the rain\n",
            "I ran 2 kilometers through the rain\n",
            "I ran 3 kilometers through the rain\n",
            "I ran 4 kilometers through the rain\n",
            "I ran 5 kilometers through the rain\n",
            "I ran 6 kilometers through the rain\n",
            "I ran 7 kilometers through the rain\n",
            "I ran 8 kilometers through the rain\n",
            "I ran 9 kilometers through the rain\n",
            "After running 10 kilometers through the rain, I could arrive home at three o'clock.\n"
          ],
          "name": "stdout"
        }
      ]
    },
    {
      "cell_type": "code",
      "metadata": {
        "colab": {
          "base_uri": "https://localhost:8080/"
        },
        "id": "_OtIyNQbLLRu",
        "outputId": "56f0fbe0-8379-45e4-b13f-82b8f9ebdb84"
      },
      "source": [
        "# 공백 표시\r\n",
        "\r\n",
        "print(\"%25s\" % \"Investment\")        # 25 문자열 중 오른쪽에 맞추어서 정렬\r\n",
        "print(\"%-25s\" % \"Korea\")            # 25 문자열 중 왼쪽에 맞추어서 정렬\r\n",
        "print(\"%-25sInvestment\" % \"Korea\")  # 오른쪽 문자열로부터 25문자만큼 왼쪽에 위치한 Korea \r\n",
        "\r\n",
        "# 소수점 표현하기\r\n",
        "\r\n",
        "print(\"Euler Number is %0.3f\" % 2.7182)   # 소수점 아래 3자리까지만 표시\r\n",
        "print(\"Euler Numbe4r is %25.3f\" % 2.7182) # 전체 25 문자열 중 오른쪽에 맞추어\r\n",
        "\r\n",
        "# .format 함수 사용: name = value\r\n",
        "print(\"I could arrive home at {0} o'clock.\".format(3))\r\n",
        "print(\"After running {} kilometers through the rain, I could arrive home at {hours} o\\'clock.\" .format(10, hours = 3))\r\n",
        "\r\n",
        "# 공백\r\n",
        "print(\"{0:<25}\".format(\"Korea Investment\"))   # 왼쪽\r\n",
        "print(\"{0:>25}\".format(\"korea Investment\"))   # 오른쪽\r\n",
        "print(\"{0:^25}\".format(\"korea Investment\"))   # 중앙\r\n",
        "print(\"{0:25}\".format(\"Korea Investment\"))    # 왼쪽\r\n",
        "\r\n",
        "# 공백채우기\r\n",
        "print(\"{0:=<25}\".format(\"Korea Investment\"))   # 오른쪽\r\n",
        "print(\"{0:#>25}\".format(\"Korea Investment\"))   # 왼쪽\r\n",
        "print(\"{0:*^25}\".format(\"Korea Investment\"))   # 중앙\r\n",
        "\r\n",
        "\r\n",
        "x = 2.7182\r\n",
        "print(\"{0:0.3f}\".format(x))\r\n",
        "print(\"{0:10.3f}\".format(x))\r\n",
        "print(\"{0:10.3f}\".format(2.7182))\r\n",
        "\r\n",
        "a = \"too\"\r\n",
        "b = 20\r\n",
        "f\"Life is {a} short. We need to learn python before {b}\"  # 왼쪽\r\n",
        "f\"Life is {a} short. We need to learn python before {b + 5}\"  # 왼쪽\r\n",
        "\r\n",
        "print(f\"{'Korea Investment':=<25}\")\r\n",
        "\r\n"
      ],
      "execution_count": null,
      "outputs": [
        {
          "output_type": "stream",
          "text": [
            "               Investment\n",
            "Korea                    \n",
            "Korea                    Investment\n",
            "Euler Number is 2.718\n",
            "Euler Numbe4r is                     2.718\n",
            "I could arrive home at 3 o'clock.\n",
            "After running 10 kilometers through the rain, I could arrive home at 3 o'clock.\n",
            "Korea Investment         \n",
            "         korea Investment\n",
            "    korea Investment     \n",
            "Korea Investment         \n",
            "Korea Investment=========\n",
            "#########Korea Investment\n",
            "****Korea Investment*****\n",
            "2.718\n",
            "     2.718\n",
            "     2.718\n",
            "Korea Investment=========\n"
          ],
          "name": "stdout"
        }
      ]
    },
    {
      "cell_type": "code",
      "metadata": {
        "colab": {
          "base_uri": "https://localhost:8080/"
        },
        "id": "Syb0wdOj-_iF",
        "outputId": "d9717bd2-f3e0-44bb-cdb0-5dd58775169a"
      },
      "source": [
        "a = \"bubble\"\r\n",
        "print(a.count(\"b\"))      # b의 숫자\r\n",
        "\r\n",
        "b = \"rubber\"\r\n",
        "print(b.find(\"b\"))       # 0부터 시작\r\n",
        "print(b.find(\"d\"))       # d가 없으므로 -1 반환\r\n",
        "\r\n",
        "b = \"rubber\"\r\n",
        "print(b.index(\"b\"))\r\n",
        "#print(b.index(\"d\"))\r\n",
        "\r\n",
        "# 문자열 삽입\r\n",
        "\r\n",
        "\".\".join([\"a\", \"b\", \"c\", \"d\"])  # 하나의 argument만 필요(여기에서는 리스트)\r\n",
        "\"_\".join([\"a\", \"b\", \"c\", \"d\"])  # 하나의 argument만 필요(여기에서는 리스트)\r\n",
        "\"\".join([\"We\", \"need\", \"Python.\"])\r\n",
        "\r\n",
        "# 대문자, 소문자 변환\r\n",
        "a = \"We need Python\"\r\n",
        "b = a.upper()\r\n",
        "c = b.lower()\r\n",
        "print(b, c)"
      ],
      "execution_count": null,
      "outputs": [
        {
          "output_type": "stream",
          "text": [
            "3\n",
            "2\n",
            "-1\n",
            "2\n",
            "WE NEED PYTHON we need python\n"
          ],
          "name": "stdout"
        }
      ]
    },
    {
      "cell_type": "code",
      "metadata": {
        "id": "pZrL4ybO97Ve",
        "colab": {
          "base_uri": "https://localhost:8080/"
        },
        "outputId": "18830289-50ed-48fd-e10b-e42050540bf2"
      },
      "source": [
        "class Member:\r\n",
        "\r\n",
        "  number = 0             # class variable\r\n",
        "  \r\n",
        "  def __init__(self, name, age, email):\r\n",
        "    self.name = name\r\n",
        "    self.age = age\r\n",
        "    self.email = email\r\n",
        "    Member.number += 1   # class variable인 number를 하나씩 증가\r\n",
        "    print(self.name, self.age, self.email)\r\n",
        "    \r\n",
        "  def study(self, school):\r\n",
        "    print(self.name + \" is studying at \" + school)\r\n",
        "\r\n",
        "  def character(self):\r\n",
        "    print(self.name + \" is brave\")\r\n",
        "\r\n",
        "  @classmethod\r\n",
        "  def getCount(cls):\r\n",
        "    return cls.number\r\n",
        "\r\n",
        "# Member instance 3개 생성\r\n",
        "obj1 = Member(\"Jack\", 25, \"jack@gmail.com\")\r\n",
        "obj2 = Member(\"Palmer\", 30, \"palmer@naver.com\")\r\n",
        "obj3 = Member(\"Greg\", 28, \"greg@aol.com\")\r\n",
        "\r\n",
        "# method call\r\n",
        "obj1.study(\"Kaist Techno College\")\r\n",
        "obj2.character()\r\n",
        "obj3.character()\r\n",
        "\r\n",
        "# 속성에 직접 접근. 기본적으로 파이썬에서는 모두 public임\r\n",
        "print(\"current Member objects are\", obj1.name, \",\", obj2.name, \"and\", obj3.name)\r\n",
        "\r\n",
        "# class method 호출\r\n",
        "print(\"Member.number ==\", Member.getCount())\r\n",
        "\r\n",
        "# class variable direct access\r\n",
        "print(Member.number)\r\n"
      ],
      "execution_count": null,
      "outputs": [
        {
          "output_type": "stream",
          "text": [
            "Jack 25 jack@gmail.com\n",
            "Palmer 30 palmer@naver.com\n",
            "Greg 28 greg@aol.com\n",
            "Jack is studying at Kaist Techno College\n",
            "Palmer is brave\n",
            "Greg is brave\n",
            "current Member objects are Jack , Palmer and Greg\n",
            "Member.number == 3\n",
            "3\n"
          ],
          "name": "stdout"
        }
      ]
    },
    {
      "cell_type": "code",
      "metadata": {
        "id": "jEBJbFi_qNEF",
        "colab": {
          "base_uri": "https://localhost:8080/"
        },
        "outputId": "d2a01ed3-ba19-4670-8d41-e8d26b8ac3d8"
      },
      "source": [
        "import numpy as np\r\n",
        "grad = np.zeros_like(3.0)\r\n",
        "print(grad)"
      ],
      "execution_count": null,
      "outputs": [
        {
          "output_type": "stream",
          "text": [
            "0.0\n"
          ],
          "name": "stdout"
        }
      ]
    },
    {
      "cell_type": "code",
      "metadata": {
        "id": "115dapaQ_rA1"
      },
      "source": [
        ""
      ],
      "execution_count": null,
      "outputs": []
    }
  ]
}