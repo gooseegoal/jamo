{
  "nbformat": 4,
  "nbformat_minor": 0,
  "metadata": {
    "colab": {
      "name": "lossfunc.ipynb",
      "provenance": [],
      "authorship_tag": "ABX9TyP3ffuET2evUiii3IAh1O6i",
      "include_colab_link": true
    },
    "kernelspec": {
      "name": "python3",
      "display_name": "Python 3"
    }
  },
  "cells": [
    {
      "cell_type": "markdown",
      "metadata": {
        "id": "view-in-github",
        "colab_type": "text"
      },
      "source": [
        "<a href=\"https://colab.research.google.com/github/gooseegoal/jamo/blob/master/lossfunc.ipynb\" target=\"_parent\"><img src=\"https://colab.research.google.com/assets/colab-badge.svg\" alt=\"Open In Colab\"/></a>"
      ]
    },
    {
      "cell_type": "markdown",
      "metadata": {
        "id": "QT2xGaM6Wr7g",
        "colab_type": "text"
      },
      "source": [
        "# Loss Function = Cost Function\n",
        "\n",
        "- Mean Square Error"
      ]
    },
    {
      "cell_type": "markdown",
      "metadata": {
        "id": "2oh8vpk5Ww44",
        "colab_type": "text"
      },
      "source": [
        ""
      ]
    },
    {
      "cell_type": "code",
      "metadata": {
        "id": "US_jLNI6dUSw",
        "colab_type": "code",
        "colab": {
          "base_uri": "https://localhost:8080/",
          "height": 53
        },
        "outputId": "ba60f813-c3cc-4229-a0d2-86354fd42d08"
      },
      "source": [
        "import numpy as np\n",
        "\n",
        "def mean_squared_error(y, t):\n",
        "  return 1/2 * np.sum((y - t)**2)\n",
        "\n",
        "# one-hot encoding에서 2번이 정답\n",
        "t = [0, 0, 1, 0, 0, 0, 0, 0, 0, 0]\n",
        "\n",
        "# softmax 함수로 추정결과 y와 같은 확률로 예측 => 2번이 가장 높음\n",
        "y = [0.1, 0.05, 0.6, 0.0, 0.05, 0.1, 0.0, 0.1, 0.0, 0.0]\n",
        "print(\"MSE_1 = %g\" % mean_squared_error(np.array(y), np.array(t))) # np.array로 바꿔줄 것\n",
        "\n",
        "# 만약 다음과 같이 6번이 가장 높은 것으로 예측되었다면 \n",
        "y = [0.1, 0.05, 0.0, 0.0, 0.05, 0.1, 0.6, 0.1, 0.0, 0.0]\n",
        "print(\"MSE_2 = %g\" % mean_squared_error(np.array(y), np.array(t)))\n",
        "\n",
        "# 결론: 잘못 예측하면 오차가 커짐 (MSE_1 < MSE_2)"
      ],
      "execution_count": 7,
      "outputs": [
        {
          "output_type": "stream",
          "text": [
            "MSE_1 = 0.0975\n",
            "MSE_2 = 0.6975\n"
          ],
          "name": "stdout"
        }
      ]
    },
    {
      "cell_type": "markdown",
      "metadata": {
        "id": "_vHYpc30XJr4",
        "colab_type": "text"
      },
      "source": [
        "- Cross Entropy Error"
      ]
    },
    {
      "cell_type": "code",
      "metadata": {
        "id": "RoqkapM3XR4U",
        "colab_type": "code",
        "colab": {
          "base_uri": "https://localhost:8080/",
          "height": 53
        },
        "outputId": "82b1be8b-a814-485f-dd4d-fc8960c2ae05"
      },
      "source": [
        "def cross_entropy_error(y, t):\n",
        "  delta = 1e-7\n",
        "  return -np.sum(t * np.log(y + delta))\n",
        "\n",
        "# one-hot encoding에서 2번이 정답\n",
        "t = [0, 0, 1, 0, 0, 0, 0, 0, 0, 0]\n",
        "\n",
        "# softmax 함수로 추정결과 y와 같은 확률로 예측 => 2번이 가장 높음\n",
        "y = [0.1, 0.05, 0.6, 0.0, 0.05, 0.1, 0.0, 0.1, 0.0, 0.0]\n",
        "print(\"MSE_1 = %g\" % cross_entropy_error(np.array(y), np.array(t))) # np.array로 바꿔줄 것\n",
        "\n",
        "# 만약 다음과 같이 6번이 가장 높은 것으로 예측되었다면 \n",
        "y = [0.1, 0.05, 0.0, 0.0, 0.05, 0.1, 0.6, 0.1, 0.0, 0.0]\n",
        "print(\"MSE_2 = %g\" % cross_entropy_error(np.array(y), np.array(t)))\n",
        "\n",
        "# 결론: 잘못 예측하면 오차가 커짐 (MSE_1 < MSE_2)  "
      ],
      "execution_count": 11,
      "outputs": [
        {
          "output_type": "stream",
          "text": [
            "MSE_1 = 0.510825\n",
            "MSE_2 = 16.1181\n"
          ],
          "name": "stdout"
        }
      ]
    },
    {
      "cell_type": "code",
      "metadata": {
        "id": "aMZLZuiVX3FS",
        "colab_type": "code",
        "colab": {
          "base_uri": "https://localhost:8080/",
          "height": 388
        },
        "outputId": "6c4c4198-99e6-4ddc-a8b2-d7075c32e40f"
      },
      "source": [
        "import sys, os\n",
        "sys.path.append(os.pardir)   # 부모 디렉토리의 파일을 가져올 수 있도록 설정\n",
        "import numpy as np\n",
        "from dataset.mnist import load_mnist\n",
        "from dataset.mnist import load_mnist\n",
        "\n",
        "(x_train, t_train), (x_test, t_test) = load_mnist(normalize = True, one_hot_lable = True)\n",
        "\n",
        "print(\"x_train.shape = \", x_train.shape)\n",
        "print(\"t_train.shape = \", t_train_shape)"
      ],
      "execution_count": 13,
      "outputs": [
        {
          "output_type": "error",
          "ename": "ModuleNotFoundError",
          "evalue": "ignored",
          "traceback": [
            "\u001b[0;31m---------------------------------------------------------------------------\u001b[0m",
            "\u001b[0;31mModuleNotFoundError\u001b[0m                       Traceback (most recent call last)",
            "\u001b[0;32m<ipython-input-13-dc6f6b512d2e>\u001b[0m in \u001b[0;36m<module>\u001b[0;34m()\u001b[0m\n\u001b[1;32m      2\u001b[0m \u001b[0msys\u001b[0m\u001b[0;34m.\u001b[0m\u001b[0mpath\u001b[0m\u001b[0;34m.\u001b[0m\u001b[0mappend\u001b[0m\u001b[0;34m(\u001b[0m\u001b[0mos\u001b[0m\u001b[0;34m.\u001b[0m\u001b[0mpardir\u001b[0m\u001b[0;34m)\u001b[0m   \u001b[0;31m# 부모 디렉토리의 파일을 가져올 수 있도록 설정\u001b[0m\u001b[0;34m\u001b[0m\u001b[0;34m\u001b[0m\u001b[0m\n\u001b[1;32m      3\u001b[0m \u001b[0;32mimport\u001b[0m \u001b[0mnumpy\u001b[0m \u001b[0;32mas\u001b[0m \u001b[0mnp\u001b[0m\u001b[0;34m\u001b[0m\u001b[0;34m\u001b[0m\u001b[0m\n\u001b[0;32m----> 4\u001b[0;31m \u001b[0;32mfrom\u001b[0m \u001b[0mdataset\u001b[0m\u001b[0;34m.\u001b[0m\u001b[0mmnist\u001b[0m \u001b[0;32mimport\u001b[0m \u001b[0mload_mnist\u001b[0m\u001b[0;34m\u001b[0m\u001b[0;34m\u001b[0m\u001b[0m\n\u001b[0m\u001b[1;32m      5\u001b[0m \u001b[0;32mfrom\u001b[0m \u001b[0mdataset\u001b[0m\u001b[0;34m.\u001b[0m\u001b[0mmnist\u001b[0m \u001b[0;32mimport\u001b[0m \u001b[0mload_mnist\u001b[0m\u001b[0;34m\u001b[0m\u001b[0;34m\u001b[0m\u001b[0m\n\u001b[1;32m      6\u001b[0m \u001b[0;34m\u001b[0m\u001b[0m\n",
            "\u001b[0;31mModuleNotFoundError\u001b[0m: No module named 'dataset'",
            "",
            "\u001b[0;31m---------------------------------------------------------------------------\u001b[0;32m\nNOTE: If your import is failing due to a missing package, you can\nmanually install dependencies using either !pip or !apt.\n\nTo view examples of installing some common dependencies, click the\n\"Open Examples\" button below.\n\u001b[0;31m---------------------------------------------------------------------------\u001b[0m\n"
          ]
        }
      ]
    },
    {
      "cell_type": "code",
      "metadata": {
        "id": "vWa7-1Ks5GQR",
        "colab_type": "code",
        "colab": {}
      },
      "source": [
        "def numerical_diff(f, x):\n",
        "  h = 1e-4  # 0.0001\n",
        "  return (f(x+h) - f(x-h)) / (2*h)\n",
        "\n",
        "def function_1(x):\n",
        "  return 0.01*x**2 + 0.1*x\n",
        "\n",
        "def tangent_line(f, x):\n",
        "  d = numerical_diff(f, x)\n",
        "  print(d)\n",
        "  y = f(x) - d*x\n",
        "  return lambda t: d*t + y\n"
      ],
      "execution_count": 15,
      "outputs": []
    },
    {
      "cell_type": "code",
      "metadata": {
        "id": "BY0t7czo6N-Z",
        "colab_type": "code",
        "colab": {
          "base_uri": "https://localhost:8080/",
          "height": 297
        },
        "outputId": "aa79a916-47fe-405a-cf5d-f225fc00b94a"
      },
      "source": [
        "%matplotlib inline\n",
        "import numpy as np\n",
        "import matplotlib.pylab as plt\n",
        "\n",
        "x = np.arange(0.0, 20.0, 0.1)  # 0에서 20까지 0.1 간격의 배열 x를 만든다.\n",
        "y = function_1(x)\n",
        "\n",
        "tf = tangent_line(function_1, 10)\n",
        "y2 = tf(x)\n",
        "\n",
        "plt.xlabel('x'); plt.ylabel('f(x)')\n",
        "plt.plot(x, y)\n",
        "plt.plot(x, y2)\n",
        "plt.show()"
      ],
      "execution_count": 25,
      "outputs": [
        {
          "output_type": "stream",
          "text": [
            "0.2999999999986347\n"
          ],
          "name": "stdout"
        },
        {
          "output_type": "display_data",
          "data": {
            "image/png": "[encoded data removed]",
            "text/plain": [
              "<Figure size 432x288 with 1 Axes>"
            ]
          },
          "metadata": {
            "tags": [],
            "needs_background": "light"
          }
        }
      ]
    },
    {
      "cell_type": "code",
      "metadata": {
        "id": "Lm_Avp5tTxE5",
        "colab_type": "code",
        "colab": {}
      },
      "source": [
        "tangent_line()"
      ],
      "execution_count": null,
      "outputs": []
    }
  ]
}